{
 "cells": [
  {
   "metadata": {},
   "cell_type": "markdown",
   "source": "## Hate Speech and Offesndive Language Detection Using BERT Transformers",
   "id": "8e39bcb254cacd44"
  },
  {
   "metadata": {},
   "cell_type": "markdown",
   "source": [
    "Hecho por:\n",
    "+ Juan Pablo Blanco Lemus\n",
    "+ Diego Mercado Coello\n",
    "+ Carlos Alberto Moreno Labrador\n",
    "+ Carlos Arturo Torres Sánchez"
   ],
   "id": "8526ec89261de6c6"
  },
  {
   "metadata": {},
   "cell_type": "markdown",
   "source": [
    "Este proyecto tiene como objetivo construir un clasificador que pueda detectar discursos de odio y lenguaje ofensivo en tweets utilizando modelos Transformer, específicamente BERT. El conjunto de datos proviene de Kaggle y consta de tweets categorizados en tres clases:\n",
    "+ `Hate Speech (Class 0)`\n",
    "+ `Offensive Language (Class 1)`\n",
    "+ `Neither (Class 2)`"
   ],
   "id": "2f327e6e44d7bd15"
  },
  {
   "metadata": {},
   "cell_type": "markdown",
   "source": [
    "El dataset con el que vamos a trabajar tiene las siguientes columnas:\n",
    "+ `count`: Número de usuarios de CrowdFlower que codificaron cada tweet.\n",
    "+ `hate_speech`: Número de usuarios que juzgaron el tweet como discurso de odio.\n",
    "+ `offensive_language`: Número de usuarios que juzgaron el tweet como ofensivo.\n",
    "+ `neither`: Número de usuarios que juzgaron el tweet como ninguno.\n",
    "+ `class`: 0 - hate speech, 1 - offensive language, 2 - neither.\n",
    "+ `tweet`: El texto del tweet."
   ],
   "id": "ed4ac983a459cc40"
  },
  {
   "metadata": {},
   "cell_type": "markdown",
   "source": "### Importamos las librerías ",
   "id": "34f18531d084780c"
  },
  {
   "cell_type": "code",
   "id": "initial_id",
   "metadata": {
    "collapsed": true,
    "ExecuteTime": {
     "end_time": "2024-11-25T02:41:26.638545Z",
     "start_time": "2024-11-25T02:41:23.871515Z"
    }
   },
   "source": [
    "import pandas as pd\n",
    "import tensorflow as tf\n",
    "from sklearn.model_selection import train_test_split\n",
    "import kagglehub\n",
    "import re\n",
    "from transformers import BertTokenizer"
   ],
   "outputs": [],
   "execution_count": 1
  },
  {
   "metadata": {},
   "cell_type": "markdown",
   "source": "### Carga y preprocesamiento de los datos",
   "id": "5f1a93c7a869be74"
  },
  {
   "metadata": {
    "ExecuteTime": {
     "end_time": "2024-11-25T02:41:48.394225Z",
     "start_time": "2024-11-25T02:41:48.045262Z"
    }
   },
   "cell_type": "code",
   "source": [
    "path = kagglehub.dataset_download('mrmorj/hate-speech-and-offensive-language-dataset')\n",
    "df = pd.read_csv(f'{path}/labeled_data.csv')\n",
    "df.head()"
   ],
   "id": "f8bb9c9b634a019f",
   "outputs": [
    {
     "data": {
      "text/plain": [
       "   Unnamed: 0  count  hate_speech  offensive_language  neither  class  \\\n",
       "0           0      3            0                   0        3      2   \n",
       "1           1      3            0                   3        0      1   \n",
       "2           2      3            0                   3        0      1   \n",
       "3           3      3            0                   2        1      1   \n",
       "4           4      6            0                   6        0      1   \n",
       "\n",
       "                                               tweet  \n",
       "0  !!! RT @mayasolovely: As a woman you shouldn't...  \n",
       "1  !!!!! RT @mleew17: boy dats cold...tyga dwn ba...  \n",
       "2  !!!!!!! RT @UrKindOfBrand Dawg!!!! RT @80sbaby...  \n",
       "3  !!!!!!!!! RT @C_G_Anderson: @viva_based she lo...  \n",
       "4  !!!!!!!!!!!!! RT @ShenikaRoberts: The shit you...  "
      ],
      "text/html": [
       "<div>\n",
       "<style scoped>\n",
       "    .dataframe tbody tr th:only-of-type {\n",
       "        vertical-align: middle;\n",
       "    }\n",
       "\n",
       "    .dataframe tbody tr th {\n",
       "        vertical-align: top;\n",
       "    }\n",
       "\n",
       "    .dataframe thead th {\n",
       "        text-align: right;\n",
       "    }\n",
       "</style>\n",
       "<table border=\"1\" class=\"dataframe\">\n",
       "  <thead>\n",
       "    <tr style=\"text-align: right;\">\n",
       "      <th></th>\n",
       "      <th>Unnamed: 0</th>\n",
       "      <th>count</th>\n",
       "      <th>hate_speech</th>\n",
       "      <th>offensive_language</th>\n",
       "      <th>neither</th>\n",
       "      <th>class</th>\n",
       "      <th>tweet</th>\n",
       "    </tr>\n",
       "  </thead>\n",
       "  <tbody>\n",
       "    <tr>\n",
       "      <th>0</th>\n",
       "      <td>0</td>\n",
       "      <td>3</td>\n",
       "      <td>0</td>\n",
       "      <td>0</td>\n",
       "      <td>3</td>\n",
       "      <td>2</td>\n",
       "      <td>!!! RT @mayasolovely: As a woman you shouldn't...</td>\n",
       "    </tr>\n",
       "    <tr>\n",
       "      <th>1</th>\n",
       "      <td>1</td>\n",
       "      <td>3</td>\n",
       "      <td>0</td>\n",
       "      <td>3</td>\n",
       "      <td>0</td>\n",
       "      <td>1</td>\n",
       "      <td>!!!!! RT @mleew17: boy dats cold...tyga dwn ba...</td>\n",
       "    </tr>\n",
       "    <tr>\n",
       "      <th>2</th>\n",
       "      <td>2</td>\n",
       "      <td>3</td>\n",
       "      <td>0</td>\n",
       "      <td>3</td>\n",
       "      <td>0</td>\n",
       "      <td>1</td>\n",
       "      <td>!!!!!!! RT @UrKindOfBrand Dawg!!!! RT @80sbaby...</td>\n",
       "    </tr>\n",
       "    <tr>\n",
       "      <th>3</th>\n",
       "      <td>3</td>\n",
       "      <td>3</td>\n",
       "      <td>0</td>\n",
       "      <td>2</td>\n",
       "      <td>1</td>\n",
       "      <td>1</td>\n",
       "      <td>!!!!!!!!! RT @C_G_Anderson: @viva_based she lo...</td>\n",
       "    </tr>\n",
       "    <tr>\n",
       "      <th>4</th>\n",
       "      <td>4</td>\n",
       "      <td>6</td>\n",
       "      <td>0</td>\n",
       "      <td>6</td>\n",
       "      <td>0</td>\n",
       "      <td>1</td>\n",
       "      <td>!!!!!!!!!!!!! RT @ShenikaRoberts: The shit you...</td>\n",
       "    </tr>\n",
       "  </tbody>\n",
       "</table>\n",
       "</div>"
      ]
     },
     "execution_count": 2,
     "metadata": {},
     "output_type": "execute_result"
    }
   ],
   "execution_count": 2
  },
  {
   "metadata": {
    "ExecuteTime": {
     "end_time": "2024-11-25T02:41:49.255117Z",
     "start_time": "2024-11-25T02:41:49.243970Z"
    }
   },
   "cell_type": "code",
   "source": "df.info()",
   "id": "7652a1918f4fa4c",
   "outputs": [
    {
     "name": "stdout",
     "output_type": "stream",
     "text": [
      "<class 'pandas.core.frame.DataFrame'>\n",
      "RangeIndex: 24783 entries, 0 to 24782\n",
      "Data columns (total 7 columns):\n",
      " #   Column              Non-Null Count  Dtype \n",
      "---  ------              --------------  ----- \n",
      " 0   Unnamed: 0          24783 non-null  int64 \n",
      " 1   count               24783 non-null  int64 \n",
      " 2   hate_speech         24783 non-null  int64 \n",
      " 3   offensive_language  24783 non-null  int64 \n",
      " 4   neither             24783 non-null  int64 \n",
      " 5   class               24783 non-null  int64 \n",
      " 6   tweet               24783 non-null  object\n",
      "dtypes: int64(6), object(1)\n",
      "memory usage: 1.3+ MB\n"
     ]
    }
   ],
   "execution_count": 3
  },
  {
   "metadata": {
    "ExecuteTime": {
     "end_time": "2024-11-25T02:41:50.084314Z",
     "start_time": "2024-11-25T02:41:50.077809Z"
    }
   },
   "cell_type": "code",
   "source": "df.isna().sum()",
   "id": "99a3ccbb0d49f17a",
   "outputs": [
    {
     "data": {
      "text/plain": [
       "Unnamed: 0            0\n",
       "count                 0\n",
       "hate_speech           0\n",
       "offensive_language    0\n",
       "neither               0\n",
       "class                 0\n",
       "tweet                 0\n",
       "dtype: int64"
      ]
     },
     "execution_count": 4,
     "metadata": {},
     "output_type": "execute_result"
    }
   ],
   "execution_count": 4
  },
  {
   "metadata": {
    "ExecuteTime": {
     "end_time": "2024-11-25T02:41:50.590197Z",
     "start_time": "2024-11-25T02:41:50.586073Z"
    }
   },
   "cell_type": "code",
   "source": "df[['tweet', 'class']].head(100) ",
   "id": "72b16c6b571dd5dd",
   "outputs": [
    {
     "data": {
      "text/plain": [
       "                                                tweet  class\n",
       "0   !!! RT @mayasolovely: As a woman you shouldn't...      2\n",
       "1   !!!!! RT @mleew17: boy dats cold...tyga dwn ba...      1\n",
       "2   !!!!!!! RT @UrKindOfBrand Dawg!!!! RT @80sbaby...      1\n",
       "3   !!!!!!!!! RT @C_G_Anderson: @viva_based she lo...      1\n",
       "4   !!!!!!!!!!!!! RT @ShenikaRoberts: The shit you...      1\n",
       "..                                                ...    ...\n",
       "95  \"@CauseWereGuys: Going back to school sucks mo...      1\n",
       "96  \"@CauseWereGuys: On my way to fuck yo bitch ht...      1\n",
       "97  \"@CeleyNichole: @white_thunduh how come you ne...      1\n",
       "98  \"@ChadMFVerbeck: If Richnow doesn't show up wi...      1\n",
       "99  \"@ChandlerParsons: How bout them Cowboys!!!!\" ...      1\n",
       "\n",
       "[100 rows x 2 columns]"
      ],
      "text/html": [
       "<div>\n",
       "<style scoped>\n",
       "    .dataframe tbody tr th:only-of-type {\n",
       "        vertical-align: middle;\n",
       "    }\n",
       "\n",
       "    .dataframe tbody tr th {\n",
       "        vertical-align: top;\n",
       "    }\n",
       "\n",
       "    .dataframe thead th {\n",
       "        text-align: right;\n",
       "    }\n",
       "</style>\n",
       "<table border=\"1\" class=\"dataframe\">\n",
       "  <thead>\n",
       "    <tr style=\"text-align: right;\">\n",
       "      <th></th>\n",
       "      <th>tweet</th>\n",
       "      <th>class</th>\n",
       "    </tr>\n",
       "  </thead>\n",
       "  <tbody>\n",
       "    <tr>\n",
       "      <th>0</th>\n",
       "      <td>!!! RT @mayasolovely: As a woman you shouldn't...</td>\n",
       "      <td>2</td>\n",
       "    </tr>\n",
       "    <tr>\n",
       "      <th>1</th>\n",
       "      <td>!!!!! RT @mleew17: boy dats cold...tyga dwn ba...</td>\n",
       "      <td>1</td>\n",
       "    </tr>\n",
       "    <tr>\n",
       "      <th>2</th>\n",
       "      <td>!!!!!!! RT @UrKindOfBrand Dawg!!!! RT @80sbaby...</td>\n",
       "      <td>1</td>\n",
       "    </tr>\n",
       "    <tr>\n",
       "      <th>3</th>\n",
       "      <td>!!!!!!!!! RT @C_G_Anderson: @viva_based she lo...</td>\n",
       "      <td>1</td>\n",
       "    </tr>\n",
       "    <tr>\n",
       "      <th>4</th>\n",
       "      <td>!!!!!!!!!!!!! RT @ShenikaRoberts: The shit you...</td>\n",
       "      <td>1</td>\n",
       "    </tr>\n",
       "    <tr>\n",
       "      <th>...</th>\n",
       "      <td>...</td>\n",
       "      <td>...</td>\n",
       "    </tr>\n",
       "    <tr>\n",
       "      <th>95</th>\n",
       "      <td>\"@CauseWereGuys: Going back to school sucks mo...</td>\n",
       "      <td>1</td>\n",
       "    </tr>\n",
       "    <tr>\n",
       "      <th>96</th>\n",
       "      <td>\"@CauseWereGuys: On my way to fuck yo bitch ht...</td>\n",
       "      <td>1</td>\n",
       "    </tr>\n",
       "    <tr>\n",
       "      <th>97</th>\n",
       "      <td>\"@CeleyNichole: @white_thunduh how come you ne...</td>\n",
       "      <td>1</td>\n",
       "    </tr>\n",
       "    <tr>\n",
       "      <th>98</th>\n",
       "      <td>\"@ChadMFVerbeck: If Richnow doesn't show up wi...</td>\n",
       "      <td>1</td>\n",
       "    </tr>\n",
       "    <tr>\n",
       "      <th>99</th>\n",
       "      <td>\"@ChandlerParsons: How bout them Cowboys!!!!\" ...</td>\n",
       "      <td>1</td>\n",
       "    </tr>\n",
       "  </tbody>\n",
       "</table>\n",
       "<p>100 rows × 2 columns</p>\n",
       "</div>"
      ]
     },
     "execution_count": 5,
     "metadata": {},
     "output_type": "execute_result"
    }
   ],
   "execution_count": 5
  },
  {
   "metadata": {},
   "cell_type": "markdown",
   "source": [
    "#### Limpiamos el dataset\n",
    "\n",
    "Realizaremos lo siguiente:\n",
    "+ Quitaremos los espacios que se encuentran al principio y al final de tweet.\n",
    "+ Eliminaremos las URLs\n",
    "+ Eliminaremos las menciones a otros usuarios."
   ],
   "id": "685ba49d2854491e"
  },
  {
   "metadata": {
    "ExecuteTime": {
     "end_time": "2024-11-25T02:41:52.216868Z",
     "start_time": "2024-11-25T02:41:52.214922Z"
    }
   },
   "cell_type": "code",
   "source": [
    "def clean_text(text):\n",
    "    text = re.sub(r'@\\w+', '', text)\n",
    "    text = re.sub(r'http\\S+', '', text)\n",
    "    text = re.sub(r'\\s+', ' ', text)\n",
    "    return text"
   ],
   "id": "72ee0d4b66ab1d99",
   "outputs": [],
   "execution_count": 6
  },
  {
   "metadata": {
    "ExecuteTime": {
     "end_time": "2024-11-25T02:41:53.143740Z",
     "start_time": "2024-11-25T02:41:53.062250Z"
    }
   },
   "cell_type": "code",
   "source": [
    "df['clean_tweet'] = df['tweet'].apply(clean_text)\n",
    "df[['tweet','clean_tweet']].head(100)"
   ],
   "id": "2da1196e1f53b74d",
   "outputs": [
    {
     "data": {
      "text/plain": [
       "                                                tweet  \\\n",
       "0   !!! RT @mayasolovely: As a woman you shouldn't...   \n",
       "1   !!!!! RT @mleew17: boy dats cold...tyga dwn ba...   \n",
       "2   !!!!!!! RT @UrKindOfBrand Dawg!!!! RT @80sbaby...   \n",
       "3   !!!!!!!!! RT @C_G_Anderson: @viva_based she lo...   \n",
       "4   !!!!!!!!!!!!! RT @ShenikaRoberts: The shit you...   \n",
       "..                                                ...   \n",
       "95  \"@CauseWereGuys: Going back to school sucks mo...   \n",
       "96  \"@CauseWereGuys: On my way to fuck yo bitch ht...   \n",
       "97  \"@CeleyNichole: @white_thunduh how come you ne...   \n",
       "98  \"@ChadMFVerbeck: If Richnow doesn't show up wi...   \n",
       "99  \"@ChandlerParsons: How bout them Cowboys!!!!\" ...   \n",
       "\n",
       "                                          clean_tweet  \n",
       "0   !!! RT : As a woman you shouldn't complain abo...  \n",
       "1   !!!!! RT : boy dats cold...tyga dwn bad for cu...  \n",
       "2   !!!!!!! RT Dawg!!!! RT : You ever fuck a bitch...  \n",
       "3               !!!!!!!!! RT : she look like a tranny  \n",
       "4   !!!!!!!!!!!!! RT : The shit you hear about me ...  \n",
       "..                                                ...  \n",
       "95  \": Going back to school sucks more dick than t...  \n",
       "96   \": On my way to fuck yo bitch me as a 9 year old  \n",
       "97  \": how come you never bring me food\" i dont ha...  \n",
       "98  \": If Richnow doesn't show up with hella tinde...  \n",
       "99         \": How bout them Cowboys!!!!\" Shutup pussy  \n",
       "\n",
       "[100 rows x 2 columns]"
      ],
      "text/html": [
       "<div>\n",
       "<style scoped>\n",
       "    .dataframe tbody tr th:only-of-type {\n",
       "        vertical-align: middle;\n",
       "    }\n",
       "\n",
       "    .dataframe tbody tr th {\n",
       "        vertical-align: top;\n",
       "    }\n",
       "\n",
       "    .dataframe thead th {\n",
       "        text-align: right;\n",
       "    }\n",
       "</style>\n",
       "<table border=\"1\" class=\"dataframe\">\n",
       "  <thead>\n",
       "    <tr style=\"text-align: right;\">\n",
       "      <th></th>\n",
       "      <th>tweet</th>\n",
       "      <th>clean_tweet</th>\n",
       "    </tr>\n",
       "  </thead>\n",
       "  <tbody>\n",
       "    <tr>\n",
       "      <th>0</th>\n",
       "      <td>!!! RT @mayasolovely: As a woman you shouldn't...</td>\n",
       "      <td>!!! RT : As a woman you shouldn't complain abo...</td>\n",
       "    </tr>\n",
       "    <tr>\n",
       "      <th>1</th>\n",
       "      <td>!!!!! RT @mleew17: boy dats cold...tyga dwn ba...</td>\n",
       "      <td>!!!!! RT : boy dats cold...tyga dwn bad for cu...</td>\n",
       "    </tr>\n",
       "    <tr>\n",
       "      <th>2</th>\n",
       "      <td>!!!!!!! RT @UrKindOfBrand Dawg!!!! RT @80sbaby...</td>\n",
       "      <td>!!!!!!! RT Dawg!!!! RT : You ever fuck a bitch...</td>\n",
       "    </tr>\n",
       "    <tr>\n",
       "      <th>3</th>\n",
       "      <td>!!!!!!!!! RT @C_G_Anderson: @viva_based she lo...</td>\n",
       "      <td>!!!!!!!!! RT : she look like a tranny</td>\n",
       "    </tr>\n",
       "    <tr>\n",
       "      <th>4</th>\n",
       "      <td>!!!!!!!!!!!!! RT @ShenikaRoberts: The shit you...</td>\n",
       "      <td>!!!!!!!!!!!!! RT : The shit you hear about me ...</td>\n",
       "    </tr>\n",
       "    <tr>\n",
       "      <th>...</th>\n",
       "      <td>...</td>\n",
       "      <td>...</td>\n",
       "    </tr>\n",
       "    <tr>\n",
       "      <th>95</th>\n",
       "      <td>\"@CauseWereGuys: Going back to school sucks mo...</td>\n",
       "      <td>\": Going back to school sucks more dick than t...</td>\n",
       "    </tr>\n",
       "    <tr>\n",
       "      <th>96</th>\n",
       "      <td>\"@CauseWereGuys: On my way to fuck yo bitch ht...</td>\n",
       "      <td>\": On my way to fuck yo bitch me as a 9 year old</td>\n",
       "    </tr>\n",
       "    <tr>\n",
       "      <th>97</th>\n",
       "      <td>\"@CeleyNichole: @white_thunduh how come you ne...</td>\n",
       "      <td>\": how come you never bring me food\" i dont ha...</td>\n",
       "    </tr>\n",
       "    <tr>\n",
       "      <th>98</th>\n",
       "      <td>\"@ChadMFVerbeck: If Richnow doesn't show up wi...</td>\n",
       "      <td>\": If Richnow doesn't show up with hella tinde...</td>\n",
       "    </tr>\n",
       "    <tr>\n",
       "      <th>99</th>\n",
       "      <td>\"@ChandlerParsons: How bout them Cowboys!!!!\" ...</td>\n",
       "      <td>\": How bout them Cowboys!!!!\" Shutup pussy</td>\n",
       "    </tr>\n",
       "  </tbody>\n",
       "</table>\n",
       "<p>100 rows × 2 columns</p>\n",
       "</div>"
      ]
     },
     "execution_count": 7,
     "metadata": {},
     "output_type": "execute_result"
    }
   ],
   "execution_count": 7
  },
  {
   "metadata": {
    "ExecuteTime": {
     "end_time": "2024-11-25T02:41:56.400074Z",
     "start_time": "2024-11-25T02:41:56.024113Z"
    }
   },
   "cell_type": "code",
   "source": [
    "# Inicializamos el tokenizador\n",
    "tokenizer = BertTokenizer.from_pretrained('bert-base-cased')"
   ],
   "id": "24c9f1eed0d6ed35",
   "outputs": [],
   "execution_count": 8
  },
  {
   "metadata": {
    "ExecuteTime": {
     "end_time": "2024-11-25T02:42:02.476310Z",
     "start_time": "2024-11-25T02:41:59.711662Z"
    }
   },
   "cell_type": "code",
   "source": [
    "# Encodeamos el texto\n",
    "encoded_data = tokenizer(\n",
    "    df['clean_tweet'].tolist(),\n",
    "    add_special_tokens=True,\n",
    "    truncation=True,\n",
    "    padding='max_length',\n",
    "    max_length=64,\n",
    "    return_attention_mask=True,\n",
    "    return_tensors='pt'\n",
    ")\n",
    "\n",
    "input_ids = encoded_data['input_ids']\n",
    "attention_masks = encoded_data['attention_mask']\n",
    "labels = df['class']"
   ],
   "id": "c97f281c719a20f7",
   "outputs": [],
   "execution_count": 9
  },
  {
   "metadata": {},
   "cell_type": "markdown",
   "source": "### Separación del Dataset en train y test",
   "id": "c1342271394e0264"
  },
  {
   "metadata": {
    "ExecuteTime": {
     "end_time": "2024-11-25T02:43:52.169351Z",
     "start_time": "2024-11-25T02:43:52.164498Z"
    }
   },
   "cell_type": "code",
   "source": [
    "from torch.utils.data import TensorDataset, DataLoader, RandomSampler, SequentialSampler\n",
    "import torch\n",
    "\n",
    "# Creamos el dataset\n",
    "dataset = TensorDataset(input_ids, attention_masks, torch.tensor(labels.values))\n",
    "\n",
    "train_size = int(0.8 * len(dataset))\n",
    "test_size = len(dataset) - train_size\n",
    "\n",
    "train_dataset, test_dataset = torch.utils.data.random_split(dataset, [train_size, test_size])\n",
    "\n",
    "batch_size = 32\n",
    "\n",
    "train_dataloader = DataLoader(\n",
    "    train_dataset,\n",
    "    sampler=RandomSampler(train_dataset),\n",
    "    batch_size=batch_size\n",
    ")\n",
    "\n",
    "test_dataloader = DataLoader(\n",
    "    test_dataset,\n",
    "    sampler=SequentialSampler(test_dataset),\n",
    "    batch_size=batch_size\n",
    ")"
   ],
   "id": "dc9d4fab0ddeae96",
   "outputs": [],
   "execution_count": 10
  },
  {
   "metadata": {},
   "cell_type": "markdown",
   "source": "### Inicializamos el modelo",
   "id": "a64f6f0d4cc74296"
  },
  {
   "metadata": {
    "ExecuteTime": {
     "end_time": "2024-11-25T02:44:39.690271Z",
     "start_time": "2024-11-25T02:44:17.725206Z"
    }
   },
   "cell_type": "code",
   "source": [
    "from transformers import BertForSequenceClassification, AdamW\n",
    "\n",
    "# Load BERT model\n",
    "model = BertForSequenceClassification.from_pretrained(\n",
    "    'bert-base-uncased',\n",
    "    num_labels=3,\n",
    "    output_attentions=False,\n",
    "    output_hidden_states=False\n",
    ")\n",
    "\n",
    "# Use GPU if available\n",
    "device = torch.device('cuda' if torch.cuda.is_available() else 'cpu')\n",
    "model.to(device)"
   ],
   "id": "5df4745a744c5084",
   "outputs": [
    {
     "data": {
      "text/plain": [
       "model.safetensors:   0%|          | 0.00/440M [00:00<?, ?B/s]"
      ],
      "application/vnd.jupyter.widget-view+json": {
       "version_major": 2,
       "version_minor": 0,
       "model_id": "56f3b1ef9d704d43965eeebefd2f9075"
      }
     },
     "metadata": {},
     "output_type": "display_data"
    },
    {
     "name": "stderr",
     "output_type": "stream",
     "text": [
      "Some weights of BertForSequenceClassification were not initialized from the model checkpoint at bert-base-uncased and are newly initialized: ['classifier.bias', 'classifier.weight']\n",
      "You should probably TRAIN this model on a down-stream task to be able to use it for predictions and inference.\n"
     ]
    },
    {
     "data": {
      "text/plain": [
       "BertForSequenceClassification(\n",
       "  (bert): BertModel(\n",
       "    (embeddings): BertEmbeddings(\n",
       "      (word_embeddings): Embedding(30522, 768, padding_idx=0)\n",
       "      (position_embeddings): Embedding(512, 768)\n",
       "      (token_type_embeddings): Embedding(2, 768)\n",
       "      (LayerNorm): LayerNorm((768,), eps=1e-12, elementwise_affine=True)\n",
       "      (dropout): Dropout(p=0.1, inplace=False)\n",
       "    )\n",
       "    (encoder): BertEncoder(\n",
       "      (layer): ModuleList(\n",
       "        (0-11): 12 x BertLayer(\n",
       "          (attention): BertAttention(\n",
       "            (self): BertSdpaSelfAttention(\n",
       "              (query): Linear(in_features=768, out_features=768, bias=True)\n",
       "              (key): Linear(in_features=768, out_features=768, bias=True)\n",
       "              (value): Linear(in_features=768, out_features=768, bias=True)\n",
       "              (dropout): Dropout(p=0.1, inplace=False)\n",
       "            )\n",
       "            (output): BertSelfOutput(\n",
       "              (dense): Linear(in_features=768, out_features=768, bias=True)\n",
       "              (LayerNorm): LayerNorm((768,), eps=1e-12, elementwise_affine=True)\n",
       "              (dropout): Dropout(p=0.1, inplace=False)\n",
       "            )\n",
       "          )\n",
       "          (intermediate): BertIntermediate(\n",
       "            (dense): Linear(in_features=768, out_features=3072, bias=True)\n",
       "            (intermediate_act_fn): GELUActivation()\n",
       "          )\n",
       "          (output): BertOutput(\n",
       "            (dense): Linear(in_features=3072, out_features=768, bias=True)\n",
       "            (LayerNorm): LayerNorm((768,), eps=1e-12, elementwise_affine=True)\n",
       "            (dropout): Dropout(p=0.1, inplace=False)\n",
       "          )\n",
       "        )\n",
       "      )\n",
       "    )\n",
       "    (pooler): BertPooler(\n",
       "      (dense): Linear(in_features=768, out_features=768, bias=True)\n",
       "      (activation): Tanh()\n",
       "    )\n",
       "  )\n",
       "  (dropout): Dropout(p=0.1, inplace=False)\n",
       "  (classifier): Linear(in_features=768, out_features=3, bias=True)\n",
       ")"
      ]
     },
     "execution_count": 11,
     "metadata": {},
     "output_type": "execute_result"
    }
   ],
   "execution_count": 11
  },
  {
   "metadata": {},
   "cell_type": "markdown",
   "source": "### Entrenamos el modelo",
   "id": "dbb515a1dfef6e8e"
  },
  {
   "metadata": {
    "ExecuteTime": {
     "end_time": "2024-11-25T04:22:01.562608Z",
     "start_time": "2024-11-25T02:45:48.513439Z"
    }
   },
   "cell_type": "code",
   "source": [
    "# Optimizer\n",
    "optimizer = AdamW(model.parameters(), lr=2e-5, eps=1e-8)\n",
    "\n",
    "# Training loop\n",
    "from transformers import get_linear_schedule_with_warmup\n",
    "\n",
    "epochs = 4\n",
    "total_steps = len(train_dataloader) * epochs\n",
    "\n",
    "# Scheduler\n",
    "scheduler = get_linear_schedule_with_warmup(\n",
    "    optimizer,\n",
    "    num_warmup_steps=0,\n",
    "    num_training_steps=total_steps\n",
    ")\n",
    "\n",
    "# Training function\n",
    "import numpy as np\n",
    "from sklearn.metrics import accuracy_score\n",
    "import time\n",
    "\n",
    "def train(model, dataloader, optimizer, scheduler):\n",
    "    model.train()\n",
    "    total_loss = 0\n",
    "    total_preds = []\n",
    "\n",
    "    for step, batch in enumerate(dataloader):\n",
    "        # Progress update\n",
    "        if step % 40 == 0 and not step == 0:\n",
    "            print(f'  Batch {step} of {len(dataloader)}.')\n",
    "\n",
    "        # Move batch to device\n",
    "        b_input_ids, b_input_mask, b_labels = [t.to(device) for t in batch]\n",
    "\n",
    "        # Clear gradients\n",
    "        model.zero_grad()\n",
    "\n",
    "        # Forward pass\n",
    "        outputs = model(\n",
    "            b_input_ids,\n",
    "            token_type_ids=None,\n",
    "            attention_mask=b_input_mask,\n",
    "            labels=b_labels\n",
    "        )\n",
    "\n",
    "        loss = outputs.loss\n",
    "        logits = outputs.logits\n",
    "\n",
    "        # Backward pass\n",
    "        loss.backward()\n",
    "\n",
    "        # Update parameters\n",
    "        optimizer.step()\n",
    "        scheduler.step()\n",
    "\n",
    "        total_loss += loss.item()\n",
    "\n",
    "    avg_loss = total_loss / len(dataloader)\n",
    "    print(f'Average training loss: {avg_loss}')\n",
    "\n",
    "# Start training\n",
    "for epoch_i in range(epochs):\n",
    "    print(f'======== Epoch {epoch_i + 1} / {epochs} ========')\n",
    "    train(model, train_dataloader, optimizer, scheduler)"
   ],
   "id": "2a726afb2c1e8a45",
   "outputs": [
    {
     "name": "stderr",
     "output_type": "stream",
     "text": [
      "/Users/juanpabloblanco/Documents/Machine Learning/BERT_and_Transformers/.venv/lib/python3.10/site-packages/transformers/optimization.py:591: FutureWarning: This implementation of AdamW is deprecated and will be removed in a future version. Use the PyTorch implementation torch.optim.AdamW instead, or set `no_deprecation_warning=True` to disable this warning\n",
      "  warnings.warn(\n"
     ]
    },
    {
     "name": "stdout",
     "output_type": "stream",
     "text": [
      "======== Epoch 1 / 4 ========\n",
      "  Batch 40 of 620.\n",
      "  Batch 80 of 620.\n",
      "  Batch 120 of 620.\n",
      "  Batch 160 of 620.\n",
      "  Batch 200 of 620.\n",
      "  Batch 240 of 620.\n",
      "  Batch 280 of 620.\n",
      "  Batch 320 of 620.\n",
      "  Batch 360 of 620.\n",
      "  Batch 400 of 620.\n",
      "  Batch 440 of 620.\n",
      "  Batch 480 of 620.\n",
      "  Batch 520 of 620.\n",
      "  Batch 560 of 620.\n",
      "  Batch 600 of 620.\n",
      "Average training loss: 0.3986045311535558\n",
      "======== Epoch 2 / 4 ========\n",
      "  Batch 40 of 620.\n",
      "  Batch 80 of 620.\n",
      "  Batch 120 of 620.\n",
      "  Batch 160 of 620.\n",
      "  Batch 200 of 620.\n",
      "  Batch 240 of 620.\n",
      "  Batch 280 of 620.\n",
      "  Batch 320 of 620.\n",
      "  Batch 360 of 620.\n",
      "  Batch 400 of 620.\n",
      "  Batch 440 of 620.\n",
      "  Batch 480 of 620.\n",
      "  Batch 520 of 620.\n",
      "  Batch 560 of 620.\n",
      "  Batch 600 of 620.\n",
      "Average training loss: 0.28092124195949686\n",
      "======== Epoch 3 / 4 ========\n",
      "  Batch 40 of 620.\n",
      "  Batch 80 of 620.\n",
      "  Batch 120 of 620.\n",
      "  Batch 160 of 620.\n",
      "  Batch 200 of 620.\n",
      "  Batch 240 of 620.\n",
      "  Batch 280 of 620.\n",
      "  Batch 320 of 620.\n",
      "  Batch 360 of 620.\n",
      "  Batch 400 of 620.\n",
      "  Batch 440 of 620.\n",
      "  Batch 480 of 620.\n",
      "  Batch 520 of 620.\n",
      "  Batch 560 of 620.\n",
      "  Batch 600 of 620.\n",
      "Average training loss: 0.24430785853295556\n",
      "======== Epoch 4 / 4 ========\n",
      "  Batch 40 of 620.\n",
      "  Batch 80 of 620.\n",
      "  Batch 120 of 620.\n",
      "  Batch 160 of 620.\n",
      "  Batch 200 of 620.\n",
      "  Batch 240 of 620.\n",
      "  Batch 280 of 620.\n",
      "  Batch 320 of 620.\n",
      "  Batch 360 of 620.\n",
      "  Batch 400 of 620.\n",
      "  Batch 440 of 620.\n",
      "  Batch 480 of 620.\n",
      "  Batch 520 of 620.\n",
      "  Batch 560 of 620.\n",
      "  Batch 600 of 620.\n",
      "Average training loss: 0.2084617735848071\n"
     ]
    }
   ],
   "execution_count": 12
  },
  {
   "metadata": {
    "ExecuteTime": {
     "end_time": "2024-11-25T04:25:18.654848Z",
     "start_time": "2024-11-25T04:24:14.668520Z"
    }
   },
   "cell_type": "code",
   "source": [
    "def evaluate(model, dataloader):\n",
    "    model.eval()\n",
    "    predictions, true_labels = [], []\n",
    "\n",
    "    for batch in dataloader:\n",
    "        b_input_ids, b_input_mask, b_labels = [t.to(device) for t in batch]\n",
    "\n",
    "        with torch.no_grad():\n",
    "            outputs = model(\n",
    "                b_input_ids,\n",
    "                token_type_ids=None,\n",
    "                attention_mask=b_input_mask\n",
    "            )\n",
    "\n",
    "        logits = outputs.logits\n",
    "        logits = logits.detach().cpu().numpy()\n",
    "        label_ids = b_labels.to('cpu').numpy()\n",
    "\n",
    "        predictions.extend(np.argmax(logits, axis=1))\n",
    "        true_labels.extend(label_ids)\n",
    "\n",
    "    return predictions, true_labels\n",
    "\n",
    "# Get predictions\n",
    "preds, true = evaluate(model, test_dataloader)\n",
    "\n",
    "# Confusion Matrix\n",
    "from sklearn.metrics import confusion_matrix, classification_report\n",
    "import seaborn as sns\n",
    "import matplotlib.pyplot as plt\n",
    "\n",
    "cm = confusion_matrix(true, preds)\n",
    "sns.heatmap(cm, annot=True, fmt='d', cmap='Blues')\n",
    "plt.xlabel('Predicted')\n",
    "plt.ylabel('True')\n",
    "plt.show()\n",
    "\n",
    "# Classification Report\n",
    "print(classification_report(true, preds, target_names=['Hate Speech', 'Offensive Language', 'Neither']))"
   ],
   "id": "d1651f77db9feed9",
   "outputs": [
    {
     "data": {
      "text/plain": [
       "<Figure size 640x480 with 2 Axes>"
      ],
      "image/png": "[encoded data removed]"
     },
     "metadata": {},
     "output_type": "display_data"
    },
    {
     "name": "stdout",
     "output_type": "stream",
     "text": [
      "                    precision    recall  f1-score   support\n",
      "\n",
      "       Hate Speech       0.47      0.25      0.33       271\n",
      "Offensive Language       0.93      0.95      0.94      3861\n",
      "           Neither       0.81      0.88      0.84       825\n",
      "\n",
      "          accuracy                           0.90      4957\n",
      "         macro avg       0.74      0.69      0.70      4957\n",
      "      weighted avg       0.89      0.90      0.89      4957\n",
      "\n"
     ]
    }
   ],
   "execution_count": 13
  },
  {
   "metadata": {
    "ExecuteTime": {
     "end_time": "2024-11-25T04:34:36.846191Z",
     "start_time": "2024-11-25T04:34:36.578324Z"
    }
   },
   "cell_type": "code",
   "source": [
    "# Después del ciclo de entrenamiento\n",
    "model.save_pretrained('hate_speech_model')\n",
    "tokenizer.save_pretrained('hate_speech_model')"
   ],
   "id": "62e808c6f5f0a582",
   "outputs": [
    {
     "data": {
      "text/plain": [
       "('hate_speech_model/tokenizer_config.json',\n",
       " 'hate_speech_model/special_tokens_map.json',\n",
       " 'hate_speech_model/vocab.txt',\n",
       " 'hate_speech_model/added_tokens.json')"
      ]
     },
     "execution_count": 14,
     "metadata": {},
     "output_type": "execute_result"
    }
   ],
   "execution_count": 14
  },
  {
   "metadata": {
    "ExecuteTime": {
     "end_time": "2024-11-25T04:35:18.364203Z",
     "start_time": "2024-11-25T04:35:18.303112Z"
    }
   },
   "cell_type": "code",
   "source": [
    "from transformers import BertTokenizer, BertForSequenceClassification\n",
    "import torch\n",
    "\n",
    "# Ruta donde guardaste el modelo\n",
    "modelo_path = 'hate_speech_model'\n",
    "\n",
    "# Cargar el tokenizador\n",
    "tokenizer = BertTokenizer.from_pretrained(modelo_path)\n",
    "\n",
    "# Cargar el modelo\n",
    "model = BertForSequenceClassification.from_pretrained(modelo_path)\n",
    "\n",
    "# Mover el modelo al dispositivo (GPU si está disponible)\n",
    "device = torch.device('cuda' if torch.cuda.is_available() else 'cpu')\n",
    "model.to(device)"
   ],
   "id": "fbf5e569cc6c5aba",
   "outputs": [
    {
     "data": {
      "text/plain": [
       "BertForSequenceClassification(\n",
       "  (bert): BertModel(\n",
       "    (embeddings): BertEmbeddings(\n",
       "      (word_embeddings): Embedding(30522, 768, padding_idx=0)\n",
       "      (position_embeddings): Embedding(512, 768)\n",
       "      (token_type_embeddings): Embedding(2, 768)\n",
       "      (LayerNorm): LayerNorm((768,), eps=1e-12, elementwise_affine=True)\n",
       "      (dropout): Dropout(p=0.1, inplace=False)\n",
       "    )\n",
       "    (encoder): BertEncoder(\n",
       "      (layer): ModuleList(\n",
       "        (0-11): 12 x BertLayer(\n",
       "          (attention): BertAttention(\n",
       "            (self): BertSdpaSelfAttention(\n",
       "              (query): Linear(in_features=768, out_features=768, bias=True)\n",
       "              (key): Linear(in_features=768, out_features=768, bias=True)\n",
       "              (value): Linear(in_features=768, out_features=768, bias=True)\n",
       "              (dropout): Dropout(p=0.1, inplace=False)\n",
       "            )\n",
       "            (output): BertSelfOutput(\n",
       "              (dense): Linear(in_features=768, out_features=768, bias=True)\n",
       "              (LayerNorm): LayerNorm((768,), eps=1e-12, elementwise_affine=True)\n",
       "              (dropout): Dropout(p=0.1, inplace=False)\n",
       "            )\n",
       "          )\n",
       "          (intermediate): BertIntermediate(\n",
       "            (dense): Linear(in_features=768, out_features=3072, bias=True)\n",
       "            (intermediate_act_fn): GELUActivation()\n",
       "          )\n",
       "          (output): BertOutput(\n",
       "            (dense): Linear(in_features=3072, out_features=768, bias=True)\n",
       "            (LayerNorm): LayerNorm((768,), eps=1e-12, elementwise_affine=True)\n",
       "            (dropout): Dropout(p=0.1, inplace=False)\n",
       "          )\n",
       "        )\n",
       "      )\n",
       "    )\n",
       "    (pooler): BertPooler(\n",
       "      (dense): Linear(in_features=768, out_features=768, bias=True)\n",
       "      (activation): Tanh()\n",
       "    )\n",
       "  )\n",
       "  (dropout): Dropout(p=0.1, inplace=False)\n",
       "  (classifier): Linear(in_features=768, out_features=3, bias=True)\n",
       ")"
      ]
     },
     "execution_count": 15,
     "metadata": {},
     "output_type": "execute_result"
    }
   ],
   "execution_count": 15
  },
  {
   "metadata": {
    "ExecuteTime": {
     "end_time": "2024-11-25T04:35:41.621012Z",
     "start_time": "2024-11-25T04:35:41.618233Z"
    }
   },
   "cell_type": "code",
   "source": [
    "def clean_text(text):\n",
    "    text = re.sub(r'@\\w+', '', text)\n",
    "    text = re.sub(r'http\\S+', '', text)\n",
    "    text = re.sub(r'\\s+', ' ', text)\n",
    "    return text"
   ],
   "id": "fbd65c6f71500e11",
   "outputs": [],
   "execution_count": 16
  },
  {
   "metadata": {
    "ExecuteTime": {
     "end_time": "2024-11-25T04:36:12.923040Z",
     "start_time": "2024-11-25T04:36:12.920179Z"
    }
   },
   "cell_type": "code",
   "source": [
    "def tokenize_text(text, tokenizer, max_length=64):\n",
    "    return tokenizer(\n",
    "        text,\n",
    "        add_special_tokens=True,\n",
    "        truncation=True,\n",
    "        padding='max_length',\n",
    "        max_length=max_length,\n",
    "        return_attention_mask=True,\n",
    "        return_tensors='pt'\n",
    "    )"
   ],
   "id": "28ed939663d2a148",
   "outputs": [],
   "execution_count": 17
  },
  {
   "metadata": {
    "ExecuteTime": {
     "end_time": "2024-11-25T04:36:18.612892Z",
     "start_time": "2024-11-25T04:36:18.609624Z"
    }
   },
   "cell_type": "code",
   "source": [
    "def classify_text(text, model, tokenizer, device):\n",
    "    # Preprocesar el texto\n",
    "    clean = clean_text(text)\n",
    "    \n",
    "    # Tokenizar el texto\n",
    "    tokens = tokenize_text(clean, tokenizer)\n",
    "    \n",
    "    input_ids = tokens['input_ids'].to(device)\n",
    "    attention_mask = tokens['attention_mask'].to(device)\n",
    "    \n",
    "    # Realizar la predicción\n",
    "    with torch.no_grad():\n",
    "        outputs = model(input_ids, attention_mask=attention_mask)\n",
    "    \n",
    "    logits = outputs.logits\n",
    "    predicted_class = torch.argmax(logits, dim=1).cpu().item()\n",
    "    \n",
    "    # Mapeo de las clases\n",
    "    class_mapping = {\n",
    "        0: 'Hate Speech',\n",
    "        1: 'Offensive Language',\n",
    "        2: 'Neither'\n",
    "    }\n",
    "    \n",
    "    return class_mapping.get(predicted_class, 'Unknown')"
   ],
   "id": "2698feccd2ec0a85",
   "outputs": [],
   "execution_count": 18
  },
  {
   "metadata": {
    "ExecuteTime": {
     "end_time": "2024-11-25T04:37:31.213663Z",
     "start_time": "2024-11-25T04:37:31.183209Z"
    }
   },
   "cell_type": "code",
   "source": [
    "# Texto de ejemplo\n",
    "texto_ejemplo = \"Fucking psycopath, kill yourself\"\n",
    "\n",
    "# Clasificar el texto\n",
    "clasificacion = classify_text(texto_ejemplo, model, tokenizer, device)\n",
    "\n",
    "print(f\"El texto se clasifica como: {clasificacion}\")"
   ],
   "id": "f60adc0bf2107321",
   "outputs": [
    {
     "name": "stdout",
     "output_type": "stream",
     "text": [
      "El texto se clasifica como: Hate Speech\n"
     ]
    }
   ],
   "execution_count": 21
  },
  {
   "metadata": {},
   "cell_type": "markdown",
   "source": "### Pruebas",
   "id": "cd4938e3b62d0e31"
  },
  {
   "metadata": {
    "ExecuteTime": {
     "end_time": "2024-11-25T04:39:02.040015Z",
     "start_time": "2024-11-25T04:38:56.244665Z"
    }
   },
   "cell_type": "code",
   "source": [
    "def main():\n",
    "    print(\"Detector de Hate Speech y Lenguaje Ofensivo\")\n",
    "    print(\"Escribe 'salir' para terminar.\\n\")\n",
    "    \n",
    "    while True:\n",
    "        texto = input(\"Introduce un texto: \")\n",
    "        if texto.lower() == 'salir':\n",
    "            break\n",
    "        clasificacion = classify_text(texto, model, tokenizer, device)\n",
    "        print(f\"Clasificación: {clasificacion}\\n\")\n",
    "\n",
    "if __name__ == \"__main__\":\n",
    "    main()"
   ],
   "id": "3f87ff69f55946ca",
   "outputs": [
    {
     "name": "stdout",
     "output_type": "stream",
     "text": [
      "Detector de Hate Speech y Lenguaje Ofensivo\n",
      "Escribe 'salir' para terminar.\n",
      "\n",
      "Clasificación: Hate Speech\n",
      "\n"
     ]
    }
   ],
   "execution_count": 24
  }
 ],
 "metadata": {
  "kernelspec": {
   "display_name": "Python 3",
   "language": "python",
   "name": "python3"
  },
  "language_info": {
   "codemirror_mode": {
    "name": "ipython",
    "version": 2
   },
   "file_extension": ".py",
   "mimetype": "text/x-python",
   "name": "python",
   "nbconvert_exporter": "python",
   "pygments_lexer": "ipython2",
   "version": "2.7.6"
  }
 },
 "nbformat": 4,
 "nbformat_minor": 5
}
